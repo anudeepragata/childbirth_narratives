{
 "cells": [
  {
   "cell_type": "code",
   "execution_count": 1,
   "metadata": {},
   "outputs": [],
   "source": [
    "import warnings\n",
    "warnings.filterwarnings(\"ignore\")"
   ]
  },
  {
   "cell_type": "code",
   "execution_count": 2,
   "metadata": {},
   "outputs": [],
   "source": [
    "import os\n",
    "import torch\n",
    "import torch.nn as nn\n",
    "from torch.utils.data import DataLoader, Dataset\n",
    "from transformers import BertTokenizer, BertModel, AdamW, get_linear_schedule_with_warmup\n",
    "from sklearn.model_selection import train_test_split\n",
    "from sklearn.metrics import accuracy_score, precision_recall_fscore_support, classification_report\n",
    "import numpy as np\n",
    "import pandas as pd\n",
    "from helper_functions import load_huggingface_dataset, preprocess_dataframe_column\n",
    "from sklearn.preprocessing import LabelEncoder"
   ]
  },
  {
   "cell_type": "code",
   "execution_count": 3,
   "metadata": {},
   "outputs": [
    {
     "name": "stderr",
     "output_type": "stream",
     "text": [
      "Repo card metadata block was not found. Setting CardData to empty.\n"
     ]
    },
    {
     "name": "stdout",
     "output_type": "stream",
     "text": [
      "Dataset loaded: solomonk/reddit_mental_health_posts\n",
      "Train size: 70909\n",
      "Test size: 17778\n"
     ]
    }
   ],
   "source": [
    "train_df, test_df = load_huggingface_dataset(\"solomonk/reddit_mental_health_posts\", train_split=0.8, verbose = True)"
   ]
  },
  {
   "cell_type": "code",
   "execution_count": 4,
   "metadata": {},
   "outputs": [],
   "source": [
    "train_df = train_df[:800]\n",
    "test_df = test_df[:200]"
   ]
  },
  {
   "cell_type": "code",
   "execution_count": 5,
   "metadata": {},
   "outputs": [
    {
     "data": {
      "text/html": [
       "<div>\n",
       "<style scoped>\n",
       "    .dataframe tbody tr th:only-of-type {\n",
       "        vertical-align: middle;\n",
       "    }\n",
       "\n",
       "    .dataframe tbody tr th {\n",
       "        vertical-align: top;\n",
       "    }\n",
       "\n",
       "    .dataframe thead th {\n",
       "        text-align: right;\n",
       "    }\n",
       "</style>\n",
       "<table border=\"1\" class=\"dataframe\">\n",
       "  <thead>\n",
       "    <tr style=\"text-align: right;\">\n",
       "      <th></th>\n",
       "      <th>author</th>\n",
       "      <th>body</th>\n",
       "      <th>created_utc</th>\n",
       "      <th>id</th>\n",
       "      <th>num_comments</th>\n",
       "      <th>score</th>\n",
       "      <th>subreddit</th>\n",
       "      <th>title</th>\n",
       "      <th>upvote_ratio</th>\n",
       "      <th>url</th>\n",
       "    </tr>\n",
       "  </thead>\n",
       "  <tbody>\n",
       "    <tr>\n",
       "      <th>0</th>\n",
       "      <td>Breadfan-</td>\n",
       "      <td>But in the end people only see the outside of ...</td>\n",
       "      <td>2021-12-22T02:41:23.000Z</td>\n",
       "      <td>rluy20</td>\n",
       "      <td>4</td>\n",
       "      <td>18</td>\n",
       "      <td>aspergers</td>\n",
       "      <td>It’s awful that you have to have so much stren...</td>\n",
       "      <td>0.96</td>\n",
       "      <td>https://www.reddit.com/r/aspergers/comments/rl...</td>\n",
       "    </tr>\n",
       "    <tr>\n",
       "      <th>1</th>\n",
       "      <td>gogo--yubari</td>\n",
       "      <td>I finally recently cut off these friendships b...</td>\n",
       "      <td>2021-12-07T23:36:59.000Z</td>\n",
       "      <td>rbcrva</td>\n",
       "      <td>4</td>\n",
       "      <td>13</td>\n",
       "      <td>ADHD</td>\n",
       "      <td>I have adhd…. But I do not like spending time ...</td>\n",
       "      <td>1.00</td>\n",
       "      <td>https://www.reddit.com/r/ADHD/comments/rbcrva/...</td>\n",
       "    </tr>\n",
       "    <tr>\n",
       "      <th>2</th>\n",
       "      <td>pathetic_gay_mess</td>\n",
       "      <td>I was testing this for a few days and my psych...</td>\n",
       "      <td>2021-09-28T12:54:49.000Z</td>\n",
       "      <td>px5rug</td>\n",
       "      <td>10</td>\n",
       "      <td>18</td>\n",
       "      <td>OCD</td>\n",
       "      <td>Technique aproved by my psychiatrist</td>\n",
       "      <td>0.88</td>\n",
       "      <td>https://www.reddit.com/r/OCD/comments/px5rug/t...</td>\n",
       "    </tr>\n",
       "    <tr>\n",
       "      <th>3</th>\n",
       "      <td>LilyWolf32</td>\n",
       "      <td>Does anyone else have trust issues regarding m...</td>\n",
       "      <td>2021-11-27T19:38:39.000Z</td>\n",
       "      <td>r3l3q4</td>\n",
       "      <td>24</td>\n",
       "      <td>88</td>\n",
       "      <td>ptsd</td>\n",
       "      <td>Dating and trauma</td>\n",
       "      <td>0.99</td>\n",
       "      <td>https://www.reddit.com/r/ptsd/comments/r3l3q4/...</td>\n",
       "    </tr>\n",
       "    <tr>\n",
       "      <th>4</th>\n",
       "      <td>Megan56789000</td>\n",
       "      <td>Waiting for Partial hospitalization treatment ...</td>\n",
       "      <td>2021-05-02T04:57:52.000Z</td>\n",
       "      <td>n2zgau</td>\n",
       "      <td>2</td>\n",
       "      <td>17</td>\n",
       "      <td>OCD</td>\n",
       "      <td>I hate OCD. I wish help was more quick to find...</td>\n",
       "      <td>0.96</td>\n",
       "      <td>https://www.reddit.com/r/OCD/comments/n2zgau/i...</td>\n",
       "    </tr>\n",
       "  </tbody>\n",
       "</table>\n",
       "</div>"
      ],
      "text/plain": [
       "              author                                               body  \\\n",
       "0          Breadfan-  But in the end people only see the outside of ...   \n",
       "1       gogo--yubari  I finally recently cut off these friendships b...   \n",
       "2  pathetic_gay_mess  I was testing this for a few days and my psych...   \n",
       "3         LilyWolf32  Does anyone else have trust issues regarding m...   \n",
       "4      Megan56789000  Waiting for Partial hospitalization treatment ...   \n",
       "\n",
       "                created_utc      id  num_comments  score  subreddit  \\\n",
       "0  2021-12-22T02:41:23.000Z  rluy20             4     18  aspergers   \n",
       "1  2021-12-07T23:36:59.000Z  rbcrva             4     13       ADHD   \n",
       "2  2021-09-28T12:54:49.000Z  px5rug            10     18        OCD   \n",
       "3  2021-11-27T19:38:39.000Z  r3l3q4            24     88       ptsd   \n",
       "4  2021-05-02T04:57:52.000Z  n2zgau             2     17        OCD   \n",
       "\n",
       "                                               title  upvote_ratio  \\\n",
       "0  It’s awful that you have to have so much stren...          0.96   \n",
       "1  I have adhd…. But I do not like spending time ...          1.00   \n",
       "2               Technique aproved by my psychiatrist          0.88   \n",
       "3                                  Dating and trauma          0.99   \n",
       "4  I hate OCD. I wish help was more quick to find...          0.96   \n",
       "\n",
       "                                                 url  \n",
       "0  https://www.reddit.com/r/aspergers/comments/rl...  \n",
       "1  https://www.reddit.com/r/ADHD/comments/rbcrva/...  \n",
       "2  https://www.reddit.com/r/OCD/comments/px5rug/t...  \n",
       "3  https://www.reddit.com/r/ptsd/comments/r3l3q4/...  \n",
       "4  https://www.reddit.com/r/OCD/comments/n2zgau/i...  "
      ]
     },
     "execution_count": 5,
     "metadata": {},
     "output_type": "execute_result"
    }
   ],
   "source": [
    "train_df.head()"
   ]
  },
  {
   "cell_type": "code",
   "execution_count": 6,
   "metadata": {},
   "outputs": [],
   "source": [
    "train_df['body'] = train_df['body'].astype(str)\n",
    "test_df['body'] = test_df['body'].astype(str)"
   ]
  },
  {
   "cell_type": "code",
   "execution_count": 7,
   "metadata": {},
   "outputs": [],
   "source": [
    "test_df = test_df.dropna()"
   ]
  },
  {
   "cell_type": "code",
   "execution_count": 8,
   "metadata": {},
   "outputs": [
    {
     "name": "stdout",
     "output_type": "stream",
     "text": [
      "Preprocessing text in the body column...\n",
      "Preprocessing text in the body column...\n"
     ]
    }
   ],
   "source": [
    "train_df = preprocess_dataframe_column(train_df, 'body')\n",
    "test_df = preprocess_dataframe_column(test_df, 'body')"
   ]
  },
  {
   "cell_type": "markdown",
   "metadata": {},
   "source": [
    "Label Encoding"
   ]
  },
  {
   "cell_type": "code",
   "execution_count": 9,
   "metadata": {},
   "outputs": [],
   "source": [
    "le = LabelEncoder()\n",
    "\n",
    "train_df['label'] = le.fit_transform(train_df['subreddit'])\n",
    "test_df['label'] = le.transform(test_df['subreddit'])"
   ]
  },
  {
   "cell_type": "markdown",
   "metadata": {},
   "source": [
    "Model Training"
   ]
  },
  {
   "cell_type": "code",
   "execution_count": 10,
   "metadata": {},
   "outputs": [],
   "source": [
    "from model import TextClassificationDataset, BERTClassifier, train, evaluate, predict_subreddit"
   ]
  },
  {
   "cell_type": "code",
   "execution_count": 11,
   "metadata": {},
   "outputs": [],
   "source": [
    "# parameters\n",
    "\n",
    "bert_model_name = 'bert-base-uncased'\n",
    "num_classes = len(le.classes_)\n",
    "max_length = 128\n",
    "batch_size = 16\n",
    "num_epochs = 4\n",
    "learning_rate = 2e-5"
   ]
  },
  {
   "cell_type": "markdown",
   "metadata": {},
   "source": [
    "Setup tokenizer, dataset and dataloader"
   ]
  },
  {
   "cell_type": "code",
   "execution_count": 12,
   "metadata": {},
   "outputs": [
    {
     "data": {
      "text/html": [
       "<div>\n",
       "<style scoped>\n",
       "    .dataframe tbody tr th:only-of-type {\n",
       "        vertical-align: middle;\n",
       "    }\n",
       "\n",
       "    .dataframe tbody tr th {\n",
       "        vertical-align: top;\n",
       "    }\n",
       "\n",
       "    .dataframe thead th {\n",
       "        text-align: right;\n",
       "    }\n",
       "</style>\n",
       "<table border=\"1\" class=\"dataframe\">\n",
       "  <thead>\n",
       "    <tr style=\"text-align: right;\">\n",
       "      <th></th>\n",
       "      <th>author</th>\n",
       "      <th>body</th>\n",
       "      <th>created_utc</th>\n",
       "      <th>id</th>\n",
       "      <th>num_comments</th>\n",
       "      <th>score</th>\n",
       "      <th>subreddit</th>\n",
       "      <th>title</th>\n",
       "      <th>upvote_ratio</th>\n",
       "      <th>url</th>\n",
       "      <th>label</th>\n",
       "    </tr>\n",
       "  </thead>\n",
       "  <tbody>\n",
       "    <tr>\n",
       "      <th>0</th>\n",
       "      <td>Breadfan-</td>\n",
       "      <td>end people see outside come weak nobody see wa...</td>\n",
       "      <td>2021-12-22T02:41:23.000Z</td>\n",
       "      <td>rluy20</td>\n",
       "      <td>4</td>\n",
       "      <td>18</td>\n",
       "      <td>aspergers</td>\n",
       "      <td>It’s awful that you have to have so much stren...</td>\n",
       "      <td>0.96</td>\n",
       "      <td>https://www.reddit.com/r/aspergers/comments/rl...</td>\n",
       "      <td>2</td>\n",
       "    </tr>\n",
       "    <tr>\n",
       "      <th>1</th>\n",
       "      <td>gogo--yubari</td>\n",
       "      <td>finally recently cut friendship kind shallow m...</td>\n",
       "      <td>2021-12-07T23:36:59.000Z</td>\n",
       "      <td>rbcrva</td>\n",
       "      <td>4</td>\n",
       "      <td>13</td>\n",
       "      <td>ADHD</td>\n",
       "      <td>I have adhd…. But I do not like spending time ...</td>\n",
       "      <td>1.00</td>\n",
       "      <td>https://www.reddit.com/r/ADHD/comments/rbcrva/...</td>\n",
       "      <td>0</td>\n",
       "    </tr>\n",
       "    <tr>\n",
       "      <th>2</th>\n",
       "      <td>pathetic_gay_mess</td>\n",
       "      <td>testing day psychiatrist aproved worked like t...</td>\n",
       "      <td>2021-09-28T12:54:49.000Z</td>\n",
       "      <td>px5rug</td>\n",
       "      <td>10</td>\n",
       "      <td>18</td>\n",
       "      <td>OCD</td>\n",
       "      <td>Technique aproved by my psychiatrist</td>\n",
       "      <td>0.88</td>\n",
       "      <td>https://www.reddit.com/r/OCD/comments/px5rug/t...</td>\n",
       "      <td>1</td>\n",
       "    </tr>\n",
       "    <tr>\n",
       "      <th>3</th>\n",
       "      <td>LilyWolf32</td>\n",
       "      <td>anyone else trust issue regarding men dating g...</td>\n",
       "      <td>2021-11-27T19:38:39.000Z</td>\n",
       "      <td>r3l3q4</td>\n",
       "      <td>24</td>\n",
       "      <td>88</td>\n",
       "      <td>ptsd</td>\n",
       "      <td>Dating and trauma</td>\n",
       "      <td>0.99</td>\n",
       "      <td>https://www.reddit.com/r/ptsd/comments/r3l3q4/...</td>\n",
       "      <td>4</td>\n",
       "    </tr>\n",
       "    <tr>\n",
       "      <th>4</th>\n",
       "      <td>Megan56789000</td>\n",
       "      <td>waiting partial hospitalization treatment wait...</td>\n",
       "      <td>2021-05-02T04:57:52.000Z</td>\n",
       "      <td>n2zgau</td>\n",
       "      <td>2</td>\n",
       "      <td>17</td>\n",
       "      <td>OCD</td>\n",
       "      <td>I hate OCD. I wish help was more quick to find...</td>\n",
       "      <td>0.96</td>\n",
       "      <td>https://www.reddit.com/r/OCD/comments/n2zgau/i...</td>\n",
       "      <td>1</td>\n",
       "    </tr>\n",
       "    <tr>\n",
       "      <th>...</th>\n",
       "      <td>...</td>\n",
       "      <td>...</td>\n",
       "      <td>...</td>\n",
       "      <td>...</td>\n",
       "      <td>...</td>\n",
       "      <td>...</td>\n",
       "      <td>...</td>\n",
       "      <td>...</td>\n",
       "      <td>...</td>\n",
       "      <td>...</td>\n",
       "      <td>...</td>\n",
       "    </tr>\n",
       "    <tr>\n",
       "      <th>795</th>\n",
       "      <td>ejrosby</td>\n",
       "      <td>ive seen many psychiatrist therapist always an...</td>\n",
       "      <td>2021-11-13T19:59:37.000Z</td>\n",
       "      <td>qt8usl</td>\n",
       "      <td>6</td>\n",
       "      <td>4</td>\n",
       "      <td>depression</td>\n",
       "      <td>What happens when you tell your therapist you’...</td>\n",
       "      <td>0.76</td>\n",
       "      <td>https://www.reddit.com/r/depression/comments/q...</td>\n",
       "      <td>3</td>\n",
       "    </tr>\n",
       "    <tr>\n",
       "      <th>796</th>\n",
       "      <td>[deleted]</td>\n",
       "      <td>im dating app girl decided text put shes page ...</td>\n",
       "      <td>2021-03-10T05:12:29.000Z</td>\n",
       "      <td>m1q2ch</td>\n",
       "      <td>3</td>\n",
       "      <td>4</td>\n",
       "      <td>OCD</td>\n",
       "      <td>Triggered by dating app</td>\n",
       "      <td>1.00</td>\n",
       "      <td>https://www.reddit.com/r/OCD/comments/m1q2ch/t...</td>\n",
       "      <td>1</td>\n",
       "    </tr>\n",
       "    <tr>\n",
       "      <th>797</th>\n",
       "      <td>_fallen_star_</td>\n",
       "      <td>basically title ocd theme horrible know realev...</td>\n",
       "      <td>2021-11-29T12:42:53.000Z</td>\n",
       "      <td>r4v13f</td>\n",
       "      <td>6</td>\n",
       "      <td>19</td>\n",
       "      <td>OCD</td>\n",
       "      <td>How can real-event OCD be an obsession if it i...</td>\n",
       "      <td>1.00</td>\n",
       "      <td>https://www.reddit.com/r/OCD/comments/r4v13f/h...</td>\n",
       "      <td>1</td>\n",
       "    </tr>\n",
       "    <tr>\n",
       "      <th>798</th>\n",
       "      <td>VexxySmexxy</td>\n",
       "      <td>im making post minute ago flash back night bro...</td>\n",
       "      <td>2021-02-18T03:09:23.000Z</td>\n",
       "      <td>lmc8iy</td>\n",
       "      <td>5</td>\n",
       "      <td>2</td>\n",
       "      <td>ptsd</td>\n",
       "      <td>Dealing with post tramautic relationship sydrome</td>\n",
       "      <td>1.00</td>\n",
       "      <td>https://www.reddit.com/r/ptsd/comments/lmc8iy/...</td>\n",
       "      <td>4</td>\n",
       "    </tr>\n",
       "    <tr>\n",
       "      <th>799</th>\n",
       "      <td>RazorBlade233</td>\n",
       "      <td>taking long understand page text bloathe fill ...</td>\n",
       "      <td>2021-10-10T16:47:51.000Z</td>\n",
       "      <td>q5br5z</td>\n",
       "      <td>5</td>\n",
       "      <td>23</td>\n",
       "      <td>ADHD</td>\n",
       "      <td>I wish it weren't so hard to study</td>\n",
       "      <td>0.97</td>\n",
       "      <td>https://www.reddit.com/r/ADHD/comments/q5br5z/...</td>\n",
       "      <td>0</td>\n",
       "    </tr>\n",
       "  </tbody>\n",
       "</table>\n",
       "<p>800 rows × 11 columns</p>\n",
       "</div>"
      ],
      "text/plain": [
       "                author                                               body  \\\n",
       "0            Breadfan-  end people see outside come weak nobody see wa...   \n",
       "1         gogo--yubari  finally recently cut friendship kind shallow m...   \n",
       "2    pathetic_gay_mess  testing day psychiatrist aproved worked like t...   \n",
       "3           LilyWolf32  anyone else trust issue regarding men dating g...   \n",
       "4        Megan56789000  waiting partial hospitalization treatment wait...   \n",
       "..                 ...                                                ...   \n",
       "795            ejrosby  ive seen many psychiatrist therapist always an...   \n",
       "796          [deleted]  im dating app girl decided text put shes page ...   \n",
       "797      _fallen_star_  basically title ocd theme horrible know realev...   \n",
       "798        VexxySmexxy  im making post minute ago flash back night bro...   \n",
       "799      RazorBlade233  taking long understand page text bloathe fill ...   \n",
       "\n",
       "                  created_utc      id  num_comments  score   subreddit  \\\n",
       "0    2021-12-22T02:41:23.000Z  rluy20             4     18   aspergers   \n",
       "1    2021-12-07T23:36:59.000Z  rbcrva             4     13        ADHD   \n",
       "2    2021-09-28T12:54:49.000Z  px5rug            10     18         OCD   \n",
       "3    2021-11-27T19:38:39.000Z  r3l3q4            24     88        ptsd   \n",
       "4    2021-05-02T04:57:52.000Z  n2zgau             2     17         OCD   \n",
       "..                        ...     ...           ...    ...         ...   \n",
       "795  2021-11-13T19:59:37.000Z  qt8usl             6      4  depression   \n",
       "796  2021-03-10T05:12:29.000Z  m1q2ch             3      4         OCD   \n",
       "797  2021-11-29T12:42:53.000Z  r4v13f             6     19         OCD   \n",
       "798  2021-02-18T03:09:23.000Z  lmc8iy             5      2        ptsd   \n",
       "799  2021-10-10T16:47:51.000Z  q5br5z             5     23        ADHD   \n",
       "\n",
       "                                                 title  upvote_ratio  \\\n",
       "0    It’s awful that you have to have so much stren...          0.96   \n",
       "1    I have adhd…. But I do not like spending time ...          1.00   \n",
       "2                 Technique aproved by my psychiatrist          0.88   \n",
       "3                                    Dating and trauma          0.99   \n",
       "4    I hate OCD. I wish help was more quick to find...          0.96   \n",
       "..                                                 ...           ...   \n",
       "795  What happens when you tell your therapist you’...          0.76   \n",
       "796                            Triggered by dating app          1.00   \n",
       "797  How can real-event OCD be an obsession if it i...          1.00   \n",
       "798   Dealing with post tramautic relationship sydrome          1.00   \n",
       "799                 I wish it weren't so hard to study          0.97   \n",
       "\n",
       "                                                   url  label  \n",
       "0    https://www.reddit.com/r/aspergers/comments/rl...      2  \n",
       "1    https://www.reddit.com/r/ADHD/comments/rbcrva/...      0  \n",
       "2    https://www.reddit.com/r/OCD/comments/px5rug/t...      1  \n",
       "3    https://www.reddit.com/r/ptsd/comments/r3l3q4/...      4  \n",
       "4    https://www.reddit.com/r/OCD/comments/n2zgau/i...      1  \n",
       "..                                                 ...    ...  \n",
       "795  https://www.reddit.com/r/depression/comments/q...      3  \n",
       "796  https://www.reddit.com/r/OCD/comments/m1q2ch/t...      1  \n",
       "797  https://www.reddit.com/r/OCD/comments/r4v13f/h...      1  \n",
       "798  https://www.reddit.com/r/ptsd/comments/lmc8iy/...      4  \n",
       "799  https://www.reddit.com/r/ADHD/comments/q5br5z/...      0  \n",
       "\n",
       "[800 rows x 11 columns]"
      ]
     },
     "execution_count": 12,
     "metadata": {},
     "output_type": "execute_result"
    }
   ],
   "source": [
    "train_df"
   ]
  },
  {
   "cell_type": "code",
   "execution_count": 13,
   "metadata": {},
   "outputs": [],
   "source": [
    "tokenizer = BertTokenizer.from_pretrained(bert_model_name)\n",
    "train_dataset = TextClassificationDataset(train_df['body'], train_df['label'],  tokenizer, max_length)\n",
    "val_dataset = TextClassificationDataset(test_df['body'], test_df['label'], tokenizer, max_length)\n",
    "train_dataloader = DataLoader(train_dataset, batch_size=batch_size, shuffle=True)\n",
    "val_dataloader = DataLoader(val_dataset, batch_size=batch_size)"
   ]
  },
  {
   "cell_type": "markdown",
   "metadata": {},
   "source": [
    "Device and model setup"
   ]
  },
  {
   "cell_type": "code",
   "execution_count": 14,
   "metadata": {},
   "outputs": [],
   "source": [
    "device = torch.device(\"cpu\")\n",
    "model = BERTClassifier(num_classes).to(device)"
   ]
  },
  {
   "cell_type": "code",
   "execution_count": 15,
   "metadata": {},
   "outputs": [
    {
     "data": {
      "text/plain": [
       "device(type='cpu')"
      ]
     },
     "execution_count": 15,
     "metadata": {},
     "output_type": "execute_result"
    }
   ],
   "source": [
    "device"
   ]
  },
  {
   "cell_type": "markdown",
   "metadata": {},
   "source": [
    "Setup optimizer and learning rate scheduler"
   ]
  },
  {
   "cell_type": "code",
   "execution_count": 16,
   "metadata": {},
   "outputs": [],
   "source": [
    "optimizer = AdamW(model.parameters(), lr=learning_rate)\n",
    "total_steps = len(train_dataloader) * num_epochs"
   ]
  },
  {
   "cell_type": "markdown",
   "metadata": {},
   "source": [
    "Model Training"
   ]
  },
  {
   "cell_type": "code",
   "execution_count": 18,
   "metadata": {},
   "outputs": [
    {
     "name": "stdout",
     "output_type": "stream",
     "text": [
      "Epoch 1/4\n"
     ]
    },
    {
     "data": {
      "application/vnd.jupyter.widget-view+json": {
       "model_id": "adac009a81ad4c1bb76dc880071afc38",
       "version_major": 2,
       "version_minor": 0
      },
      "text/plain": [
       "  0%|          | 0/50 [00:00<?, ?it/s]"
      ]
     },
     "metadata": {},
     "output_type": "display_data"
    },
    {
     "data": {
      "application/vnd.jupyter.widget-view+json": {
       "model_id": "a960ff6ee5e544f2b119ebb61fec4eba",
       "version_major": 2,
       "version_minor": 0
      },
      "text/plain": [
       "  0%|          | 0/13 [00:00<?, ?it/s]"
      ]
     },
     "metadata": {},
     "output_type": "display_data"
    },
    {
     "name": "stdout",
     "output_type": "stream",
     "text": [
      "Validation Accuracy: 0.5950\n",
      "0.9973156543878409\n",
      "Epoch 2/4\n"
     ]
    },
    {
     "data": {
      "application/vnd.jupyter.widget-view+json": {
       "model_id": "2e25ee447c484ef1a8498ac8d833b74a",
       "version_major": 2,
       "version_minor": 0
      },
      "text/plain": [
       "  0%|          | 0/50 [00:00<?, ?it/s]"
      ]
     },
     "metadata": {},
     "output_type": "display_data"
    },
    {
     "data": {
      "application/vnd.jupyter.widget-view+json": {
       "model_id": "bc3d6aa2754e4314a9e3df61883c8ae2",
       "version_major": 2,
       "version_minor": 0
      },
      "text/plain": [
       "  0%|          | 0/13 [00:00<?, ?it/s]"
      ]
     },
     "metadata": {},
     "output_type": "display_data"
    },
    {
     "name": "stdout",
     "output_type": "stream",
     "text": [
      "Validation Accuracy: 0.7450\n",
      "0.7664683827987084\n",
      "Epoch 3/4\n"
     ]
    },
    {
     "data": {
      "application/vnd.jupyter.widget-view+json": {
       "model_id": "be78d4c8d1764e8f895d44080cd74d1d",
       "version_major": 2,
       "version_minor": 0
      },
      "text/plain": [
       "  0%|          | 0/50 [00:00<?, ?it/s]"
      ]
     },
     "metadata": {},
     "output_type": "display_data"
    },
    {
     "data": {
      "application/vnd.jupyter.widget-view+json": {
       "model_id": "9720d7f76b994400b44820a78cdcaf54",
       "version_major": 2,
       "version_minor": 0
      },
      "text/plain": [
       "  0%|          | 0/13 [00:00<?, ?it/s]"
      ]
     },
     "metadata": {},
     "output_type": "display_data"
    },
    {
     "name": "stdout",
     "output_type": "stream",
     "text": [
      "Validation Accuracy: 0.7250\n",
      "0.7120589453440446\n",
      "Epoch 4/4\n"
     ]
    },
    {
     "data": {
      "application/vnd.jupyter.widget-view+json": {
       "model_id": "02a47f409407469c9afe520412a4f04c",
       "version_major": 2,
       "version_minor": 0
      },
      "text/plain": [
       "  0%|          | 0/50 [00:00<?, ?it/s]"
      ]
     },
     "metadata": {},
     "output_type": "display_data"
    },
    {
     "data": {
      "application/vnd.jupyter.widget-view+json": {
       "model_id": "4f19dd5b6bb246a8b21d9aed44aa1013",
       "version_major": 2,
       "version_minor": 0
      },
      "text/plain": [
       "  0%|          | 0/13 [00:00<?, ?it/s]"
      ]
     },
     "metadata": {},
     "output_type": "display_data"
    },
    {
     "name": "stdout",
     "output_type": "stream",
     "text": [
      "Validation Accuracy: 0.7650\n",
      "0.6903020854179676\n"
     ]
    }
   ],
   "source": [
    "for epoch in range(num_epochs):\n",
    "    print(f\"Epoch {epoch + 1}/{num_epochs}\")\n",
    "    train(model, train_dataloader, optimizer, device, criterion=nn.CrossEntropyLoss())\n",
    "    accuracy, report = evaluate(model, val_dataloader, device, criterion=nn.CrossEntropyLoss())\n",
    "    print(f\"Validation Accuracy: {accuracy:.4f}\")\n",
    "    print(report)"
   ]
  },
  {
   "cell_type": "code",
   "execution_count": 46,
   "metadata": {},
   "outputs": [
    {
     "data": {
      "text/html": [
       "<div>\n",
       "<style scoped>\n",
       "    .dataframe tbody tr th:only-of-type {\n",
       "        vertical-align: middle;\n",
       "    }\n",
       "\n",
       "    .dataframe tbody tr th {\n",
       "        vertical-align: top;\n",
       "    }\n",
       "\n",
       "    .dataframe thead th {\n",
       "        text-align: right;\n",
       "    }\n",
       "</style>\n",
       "<table border=\"1\" class=\"dataframe\">\n",
       "  <thead>\n",
       "    <tr style=\"text-align: right;\">\n",
       "      <th></th>\n",
       "      <th>author</th>\n",
       "      <th>body</th>\n",
       "      <th>created_utc</th>\n",
       "      <th>id</th>\n",
       "      <th>num_comments</th>\n",
       "      <th>score</th>\n",
       "      <th>subreddit</th>\n",
       "      <th>title</th>\n",
       "      <th>upvote_ratio</th>\n",
       "      <th>url</th>\n",
       "      <th>label</th>\n",
       "    </tr>\n",
       "  </thead>\n",
       "  <tbody>\n",
       "    <tr>\n",
       "      <th>0</th>\n",
       "      <td>Breadfan-</td>\n",
       "      <td>end people see outside come weak nobody see wa...</td>\n",
       "      <td>2021-12-22T02:41:23.000Z</td>\n",
       "      <td>rluy20</td>\n",
       "      <td>4</td>\n",
       "      <td>18</td>\n",
       "      <td>aspergers</td>\n",
       "      <td>It’s awful that you have to have so much stren...</td>\n",
       "      <td>0.96</td>\n",
       "      <td>https://www.reddit.com/r/aspergers/comments/rl...</td>\n",
       "      <td>2</td>\n",
       "    </tr>\n",
       "    <tr>\n",
       "      <th>2</th>\n",
       "      <td>gogo--yubari</td>\n",
       "      <td>finally recently cut friendship kind shallow m...</td>\n",
       "      <td>2021-12-07T23:36:59.000Z</td>\n",
       "      <td>rbcrva</td>\n",
       "      <td>4</td>\n",
       "      <td>13</td>\n",
       "      <td>ADHD</td>\n",
       "      <td>I have adhd…. But I do not like spending time ...</td>\n",
       "      <td>1.00</td>\n",
       "      <td>https://www.reddit.com/r/ADHD/comments/rbcrva/...</td>\n",
       "      <td>0</td>\n",
       "    </tr>\n",
       "    <tr>\n",
       "      <th>4</th>\n",
       "      <td>pathetic_gay_mess</td>\n",
       "      <td>testing day psychiatrist aproved worked like t...</td>\n",
       "      <td>2021-09-28T12:54:49.000Z</td>\n",
       "      <td>px5rug</td>\n",
       "      <td>10</td>\n",
       "      <td>18</td>\n",
       "      <td>OCD</td>\n",
       "      <td>Technique aproved by my psychiatrist</td>\n",
       "      <td>0.88</td>\n",
       "      <td>https://www.reddit.com/r/OCD/comments/px5rug/t...</td>\n",
       "      <td>1</td>\n",
       "    </tr>\n",
       "    <tr>\n",
       "      <th>5</th>\n",
       "      <td>LilyWolf32</td>\n",
       "      <td>anyone else trust issue regarding men dating g...</td>\n",
       "      <td>2021-11-27T19:38:39.000Z</td>\n",
       "      <td>r3l3q4</td>\n",
       "      <td>24</td>\n",
       "      <td>88</td>\n",
       "      <td>ptsd</td>\n",
       "      <td>Dating and trauma</td>\n",
       "      <td>0.99</td>\n",
       "      <td>https://www.reddit.com/r/ptsd/comments/r3l3q4/...</td>\n",
       "      <td>4</td>\n",
       "    </tr>\n",
       "    <tr>\n",
       "      <th>6</th>\n",
       "      <td>Megan56789000</td>\n",
       "      <td>waiting partial hospitalization treatment wait...</td>\n",
       "      <td>2021-05-02T04:57:52.000Z</td>\n",
       "      <td>n2zgau</td>\n",
       "      <td>2</td>\n",
       "      <td>17</td>\n",
       "      <td>OCD</td>\n",
       "      <td>I hate OCD. I wish help was more quick to find...</td>\n",
       "      <td>0.96</td>\n",
       "      <td>https://www.reddit.com/r/OCD/comments/n2zgau/i...</td>\n",
       "      <td>1</td>\n",
       "    </tr>\n",
       "    <tr>\n",
       "      <th>...</th>\n",
       "      <td>...</td>\n",
       "      <td>...</td>\n",
       "      <td>...</td>\n",
       "      <td>...</td>\n",
       "      <td>...</td>\n",
       "      <td>...</td>\n",
       "      <td>...</td>\n",
       "      <td>...</td>\n",
       "      <td>...</td>\n",
       "      <td>...</td>\n",
       "      <td>...</td>\n",
       "    </tr>\n",
       "    <tr>\n",
       "      <th>121021</th>\n",
       "      <td>Vessecora</td>\n",
       "      <td>tw incestuous child sexual abuse update since ...</td>\n",
       "      <td>2021-05-20T10:45:11.000Z</td>\n",
       "      <td>ngww23</td>\n",
       "      <td>3</td>\n",
       "      <td>3</td>\n",
       "      <td>ptsd</td>\n",
       "      <td>Emotional flashback and procrastinating law sc...</td>\n",
       "      <td>0.81</td>\n",
       "      <td>https://www.reddit.com/r/ptsd/comments/ngww23/...</td>\n",
       "      <td>4</td>\n",
       "    </tr>\n",
       "    <tr>\n",
       "      <th>121025</th>\n",
       "      <td>imuseless99</td>\n",
       "      <td>im invisible done hope good life</td>\n",
       "      <td>2021-12-03T04:08:48.000Z</td>\n",
       "      <td>r7q1ec</td>\n",
       "      <td>132</td>\n",
       "      <td>231</td>\n",
       "      <td>depression</td>\n",
       "      <td>Last post</td>\n",
       "      <td>0.96</td>\n",
       "      <td>https://www.reddit.com/r/depression/comments/r...</td>\n",
       "      <td>3</td>\n",
       "    </tr>\n",
       "    <tr>\n",
       "      <th>121026</th>\n",
       "      <td>redneck_lilith</td>\n",
       "      <td>originally diagnosed ptsd psychotic feature ag...</td>\n",
       "      <td>2021-02-21T17:32:17.000Z</td>\n",
       "      <td>lp20mk</td>\n",
       "      <td>0</td>\n",
       "      <td>1</td>\n",
       "      <td>ptsd</td>\n",
       "      <td>missing my psychosis</td>\n",
       "      <td>0.67</td>\n",
       "      <td>https://www.reddit.com/r/ptsd/comments/lp20mk/...</td>\n",
       "      <td>4</td>\n",
       "    </tr>\n",
       "    <tr>\n",
       "      <th>121028</th>\n",
       "      <td>Icy-Study-3679</td>\n",
       "      <td>realized ptsd ever time thought must asleep we...</td>\n",
       "      <td>2021-10-02T17:22:16.000Z</td>\n",
       "      <td>pzzebq</td>\n",
       "      <td>1</td>\n",
       "      <td>3</td>\n",
       "      <td>ptsd</td>\n",
       "      <td>Flashback/intrusive images or nightmare</td>\n",
       "      <td>1.00</td>\n",
       "      <td>https://www.reddit.com/r/ptsd/comments/pzzebq/...</td>\n",
       "      <td>4</td>\n",
       "    </tr>\n",
       "    <tr>\n",
       "      <th>121029</th>\n",
       "      <td>FinianTheFaun</td>\n",
       "      <td>much recommendation thing like see movie join ...</td>\n",
       "      <td>2021-11-23T12:37:47.000Z</td>\n",
       "      <td>r0caay</td>\n",
       "      <td>1</td>\n",
       "      <td>2</td>\n",
       "      <td>depression</td>\n",
       "      <td>Something that helps</td>\n",
       "      <td>1.00</td>\n",
       "      <td>https://www.reddit.com/r/depression/comments/r...</td>\n",
       "      <td>3</td>\n",
       "    </tr>\n",
       "  </tbody>\n",
       "</table>\n",
       "<p>70909 rows × 11 columns</p>\n",
       "</div>"
      ],
      "text/plain": [
       "                   author                                               body  \\\n",
       "0               Breadfan-  end people see outside come weak nobody see wa...   \n",
       "2            gogo--yubari  finally recently cut friendship kind shallow m...   \n",
       "4       pathetic_gay_mess  testing day psychiatrist aproved worked like t...   \n",
       "5              LilyWolf32  anyone else trust issue regarding men dating g...   \n",
       "6           Megan56789000  waiting partial hospitalization treatment wait...   \n",
       "...                   ...                                                ...   \n",
       "121021          Vessecora  tw incestuous child sexual abuse update since ...   \n",
       "121025        imuseless99                   im invisible done hope good life   \n",
       "121026     redneck_lilith  originally diagnosed ptsd psychotic feature ag...   \n",
       "121028     Icy-Study-3679  realized ptsd ever time thought must asleep we...   \n",
       "121029      FinianTheFaun  much recommendation thing like see movie join ...   \n",
       "\n",
       "                     created_utc      id  num_comments  score   subreddit  \\\n",
       "0       2021-12-22T02:41:23.000Z  rluy20             4     18   aspergers   \n",
       "2       2021-12-07T23:36:59.000Z  rbcrva             4     13        ADHD   \n",
       "4       2021-09-28T12:54:49.000Z  px5rug            10     18         OCD   \n",
       "5       2021-11-27T19:38:39.000Z  r3l3q4            24     88        ptsd   \n",
       "6       2021-05-02T04:57:52.000Z  n2zgau             2     17         OCD   \n",
       "...                          ...     ...           ...    ...         ...   \n",
       "121021  2021-05-20T10:45:11.000Z  ngww23             3      3        ptsd   \n",
       "121025  2021-12-03T04:08:48.000Z  r7q1ec           132    231  depression   \n",
       "121026  2021-02-21T17:32:17.000Z  lp20mk             0      1        ptsd   \n",
       "121028  2021-10-02T17:22:16.000Z  pzzebq             1      3        ptsd   \n",
       "121029  2021-11-23T12:37:47.000Z  r0caay             1      2  depression   \n",
       "\n",
       "                                                    title  upvote_ratio  \\\n",
       "0       It’s awful that you have to have so much stren...          0.96   \n",
       "2       I have adhd…. But I do not like spending time ...          1.00   \n",
       "4                    Technique aproved by my psychiatrist          0.88   \n",
       "5                                       Dating and trauma          0.99   \n",
       "6       I hate OCD. I wish help was more quick to find...          0.96   \n",
       "...                                                   ...           ...   \n",
       "121021  Emotional flashback and procrastinating law sc...          0.81   \n",
       "121025                                          Last post          0.96   \n",
       "121026                               missing my psychosis          0.67   \n",
       "121028            Flashback/intrusive images or nightmare          1.00   \n",
       "121029                               Something that helps          1.00   \n",
       "\n",
       "                                                      url  label  \n",
       "0       https://www.reddit.com/r/aspergers/comments/rl...      2  \n",
       "2       https://www.reddit.com/r/ADHD/comments/rbcrva/...      0  \n",
       "4       https://www.reddit.com/r/OCD/comments/px5rug/t...      1  \n",
       "5       https://www.reddit.com/r/ptsd/comments/r3l3q4/...      4  \n",
       "6       https://www.reddit.com/r/OCD/comments/n2zgau/i...      1  \n",
       "...                                                   ...    ...  \n",
       "121021  https://www.reddit.com/r/ptsd/comments/ngww23/...      4  \n",
       "121025  https://www.reddit.com/r/depression/comments/r...      3  \n",
       "121026  https://www.reddit.com/r/ptsd/comments/lp20mk/...      4  \n",
       "121028  https://www.reddit.com/r/ptsd/comments/pzzebq/...      4  \n",
       "121029  https://www.reddit.com/r/depression/comments/r...      3  \n",
       "\n",
       "[70909 rows x 11 columns]"
      ]
     },
     "execution_count": 46,
     "metadata": {},
     "output_type": "execute_result"
    }
   ],
   "source": [
    "\n",
    "train_df"
   ]
  }
 ],
 "metadata": {
  "kernelspec": {
   "display_name": "ballers",
   "language": "python",
   "name": "python3"
  },
  "language_info": {
   "codemirror_mode": {
    "name": "ipython",
    "version": 3
   },
   "file_extension": ".py",
   "mimetype": "text/x-python",
   "name": "python",
   "nbconvert_exporter": "python",
   "pygments_lexer": "ipython3",
   "version": "3.10.4"
  }
 },
 "nbformat": 4,
 "nbformat_minor": 2
}
